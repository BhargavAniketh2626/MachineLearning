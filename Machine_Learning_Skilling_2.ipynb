{
  "nbformat": 4,
  "nbformat_minor": 0,
  "metadata": {
    "colab": {
      "name": "Machine Learning 2.ipynb",
      "provenance": [],
      "authorship_tag": "ABX9TyOHJXoHGIIkdCXEaztmVHm7",
      "include_colab_link": true
    },
    "kernelspec": {
      "name": "python3",
      "display_name": "Python 3"
    },
    "language_info": {
      "name": "python"
    }
  },
  "cells": [
    {
      "cell_type": "markdown",
      "metadata": {
        "id": "view-in-github",
        "colab_type": "text"
      },
      "source": [
        "<a href=\"https://colab.research.google.com/github/BhargavAniketh2626/MachineLearning/blob/main/Machine_Learning_2.ipynb\" target=\"_parent\"><img src=\"https://colab.research.google.com/assets/colab-badge.svg\" alt=\"Open In Colab\"/></a>"
      ]
    },
    {
      "cell_type": "code",
      "metadata": {
        "id": "N-vlvXfk-2OK"
      },
      "source": [
        "import numpy as np\n",
        "import pandas as pd\n",
        "import matplotlib.pyplot as plt\n",
        "import seaborn as sns"
      ],
      "execution_count": 1,
      "outputs": []
    },
    {
      "cell_type": "code",
      "metadata": {
        "colab": {
          "base_uri": "https://localhost:8080/"
        },
        "id": "GDZsDUIV_AVL",
        "outputId": "e7df0cf2-c1c2-4892-832f-4151418d6c65"
      },
      "source": [
        "URL = 'http://winterolympicsmedals.com/medals.csv'\n",
        "df = pd.read_csv(URL)\n",
        "print(df.head())"
      ],
      "execution_count": 7,
      "outputs": [
        {
          "output_type": "stream",
          "text": [
            "   Year      City       Sport  ...       Event Event gender   Medal\n",
            "0  1924  Chamonix     Skating  ...  individual            M  Silver\n",
            "1  1924  Chamonix     Skating  ...  individual            W    Gold\n",
            "2  1924  Chamonix     Skating  ...       pairs            X    Gold\n",
            "3  1924  Chamonix   Bobsleigh  ...    four-man            M  Bronze\n",
            "4  1924  Chamonix  Ice Hockey  ...  ice hockey            M    Gold\n",
            "\n",
            "[5 rows x 8 columns]\n"
          ],
          "name": "stdout"
        }
      ]
    },
    {
      "cell_type": "code",
      "metadata": {
        "colab": {
          "base_uri": "https://localhost:8080/"
        },
        "id": "Q_WJwss3_FXr",
        "outputId": "6bb2b35c-876b-45af-cb37-71f17cedd6e7"
      },
      "source": [
        "df.info()"
      ],
      "execution_count": 8,
      "outputs": [
        {
          "output_type": "stream",
          "text": [
            "<class 'pandas.core.frame.DataFrame'>\n",
            "RangeIndex: 2311 entries, 0 to 2310\n",
            "Data columns (total 8 columns):\n",
            " #   Column        Non-Null Count  Dtype \n",
            "---  ------        --------------  ----- \n",
            " 0   Year          2311 non-null   int64 \n",
            " 1   City          2311 non-null   object\n",
            " 2   Sport         2311 non-null   object\n",
            " 3   Discipline    2311 non-null   object\n",
            " 4   NOC           2311 non-null   object\n",
            " 5   Event         2311 non-null   object\n",
            " 6   Event gender  2311 non-null   object\n",
            " 7   Medal         2311 non-null   object\n",
            "dtypes: int64(1), object(7)\n",
            "memory usage: 144.6+ KB\n"
          ],
          "name": "stdout"
        }
      ]
    },
    {
      "cell_type": "code",
      "metadata": {
        "colab": {
          "base_uri": "https://localhost:8080/",
          "height": 333
        },
        "id": "yCa6h02o_otr",
        "outputId": "5fc7e861-3401-4e45-c13e-932761e74ad6"
      },
      "source": [
        "sns.countplot(df['Event gender'])\n",
        "plt.show()"
      ],
      "execution_count": 9,
      "outputs": [
        {
          "output_type": "stream",
          "text": [
            "/usr/local/lib/python3.7/dist-packages/seaborn/_decorators.py:43: FutureWarning: Pass the following variable as a keyword arg: x. From version 0.12, the only valid positional argument will be `data`, and passing other arguments without an explicit keyword will result in an error or misinterpretation.\n",
            "  FutureWarning\n"
          ],
          "name": "stderr"
        },
        {
          "output_type": "display_data",
          "data": {
            "image/png": "[encoded data removed]",
            "text/plain": [
              "<Figure size 432x288 with 1 Axes>"
            ]
          },
          "metadata": {
            "tags": [],
            "needs_background": "light"
          }
        }
      ]
    },
    {
      "cell_type": "code",
      "metadata": {
        "colab": {
          "base_uri": "https://localhost:8080/"
        },
        "id": "nvvqRgKuAx65",
        "outputId": "cba8de76-ed2b-4418-97aa-9ee8ef53438c"
      },
      "source": [
        "l1 = df[df['Sport'] == 'Skating'].value_counts().sum()\n",
        "l1"
      ],
      "execution_count": 21,
      "outputs": [
        {
          "output_type": "execute_result",
          "data": {
            "text/plain": [
              "758"
            ]
          },
          "metadata": {
            "tags": []
          },
          "execution_count": 21
        }
      ]
    },
    {
      "cell_type": "code",
      "metadata": {
        "colab": {
          "base_uri": "https://localhost:8080/"
        },
        "id": "xBEYPN5RBH1M",
        "outputId": "63ee0abc-49e9-4de5-832d-3d67caa7aeb7"
      },
      "source": [
        "df[df['Sport'] == 'Ice Hockey'].value_counts().sum()"
      ],
      "execution_count": 17,
      "outputs": [
        {
          "output_type": "execute_result",
          "data": {
            "text/plain": [
              "69"
            ]
          },
          "metadata": {
            "tags": []
          },
          "execution_count": 17
        }
      ]
    },
    {
      "cell_type": "code",
      "metadata": {
        "colab": {
          "base_uri": "https://localhost:8080/",
          "height": 333
        },
        "id": "skXp4Y0S_0XE",
        "outputId": "d0e47339-d099-4017-d67c-6c97942dcdd3"
      },
      "source": [
        "sns.countplot(df['Event gender'], hue=df['Medal'])\n",
        "plt.show()"
      ],
      "execution_count": 29,
      "outputs": [
        {
          "output_type": "stream",
          "text": [
            "/usr/local/lib/python3.7/dist-packages/seaborn/_decorators.py:43: FutureWarning: Pass the following variable as a keyword arg: x. From version 0.12, the only valid positional argument will be `data`, and passing other arguments without an explicit keyword will result in an error or misinterpretation.\n",
            "  FutureWarning\n"
          ],
          "name": "stderr"
        },
        {
          "output_type": "display_data",
          "data": {
            "image/png": "[encoded data removed]",
            "text/plain": [
              "<Figure size 432x288 with 1 Axes>"
            ]
          },
          "metadata": {
            "tags": [],
            "needs_background": "light"
          }
        }
      ]
    },
    {
      "cell_type": "code",
      "metadata": {
        "id": "_Dt8vsTx_6-L"
      },
      "source": [
        ""
      ],
      "execution_count": null,
      "outputs": []
    }
  ]
}
