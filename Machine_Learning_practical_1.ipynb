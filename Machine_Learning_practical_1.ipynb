{
  "nbformat": 4,
  "nbformat_minor": 0,
  "metadata": {
    "colab": {
      "name": "Machine Learning practical 1.ipynb",
      "provenance": [],
      "collapsed_sections": [],
      "authorship_tag": "ABX9TyPMtuBCpJqescVg8W6+oIvb",
      "include_colab_link": true
    },
    "kernelspec": {
      "name": "python3",
      "display_name": "Python 3"
    },
    "language_info": {
      "name": "python"
    }
  },
  "cells": [
    {
      "cell_type": "markdown",
      "metadata": {
        "id": "view-in-github",
        "colab_type": "text"
      },
      "source": [
        "<a href=\"https://colab.research.google.com/github/BhargavAniketh2626/MachineLearning/blob/main/Machine_Learning_practical_1.ipynb\" target=\"_parent\"><img src=\"https://colab.research.google.com/assets/colab-badge.svg\" alt=\"Open In Colab\"/></a>"
      ]
    },
    {
      "cell_type": "code",
      "metadata": {
        "id": "MlJgnsoUt7Vt"
      },
      "source": [
        "import numpy as np\n",
        "import pandas as pd\n",
        "import matplotlib.pyplot as plt"
      ],
      "execution_count": 1,
      "outputs": []
    },
    {
      "cell_type": "code",
      "metadata": {
        "colab": {
          "base_uri": "https://localhost:8080/",
          "height": 623
        },
        "id": "HzxlU1Zavngj",
        "outputId": "fc9ca805-2bc2-4fe0-8f31-28416a833696"
      },
      "source": [
        "df = pd.read_csv(\"supermarket_sales - Sheet1.csv\")\n",
        "df"
      ],
      "execution_count": 13,
      "outputs": [
        {
          "output_type": "execute_result",
          "data": {
            "text/html": [
              "<div>\n",
              "<style scoped>\n",
              "    .dataframe tbody tr th:only-of-type {\n",
              "        vertical-align: middle;\n",
              "    }\n",
              "\n",
              "    .dataframe tbody tr th {\n",
              "        vertical-align: top;\n",
              "    }\n",
              "\n",
              "    .dataframe thead th {\n",
              "        text-align: right;\n",
              "    }\n",
              "</style>\n",
              "<table border=\"1\" class=\"dataframe\">\n",
              "  <thead>\n",
              "    <tr style=\"text-align: right;\">\n",
              "      <th></th>\n",
              "      <th>Invoice ID</th>\n",
              "      <th>Branch</th>\n",
              "      <th>City</th>\n",
              "      <th>Customer type</th>\n",
              "      <th>Gender</th>\n",
              "      <th>Product line</th>\n",
              "      <th>Unit price</th>\n",
              "      <th>Quantity</th>\n",
              "      <th>Tax 5%</th>\n",
              "      <th>Total</th>\n",
              "      <th>Date</th>\n",
              "      <th>Time</th>\n",
              "      <th>Payment</th>\n",
              "      <th>cogs</th>\n",
              "      <th>gross margin percentage</th>\n",
              "      <th>gross income</th>\n",
              "      <th>Rating</th>\n",
              "    </tr>\n",
              "  </thead>\n",
              "  <tbody>\n",
              "    <tr>\n",
              "      <th>0</th>\n",
              "      <td>750-67-8428</td>\n",
              "      <td>A</td>\n",
              "      <td>Yangon</td>\n",
              "      <td>Member</td>\n",
              "      <td>Female</td>\n",
              "      <td>Health and beauty</td>\n",
              "      <td>74.69</td>\n",
              "      <td>7</td>\n",
              "      <td>26.1415</td>\n",
              "      <td>548.9715</td>\n",
              "      <td>1/5/2019</td>\n",
              "      <td>13:08</td>\n",
              "      <td>Ewallet</td>\n",
              "      <td>522.83</td>\n",
              "      <td>4.761905</td>\n",
              "      <td>26.1415</td>\n",
              "      <td>9.1</td>\n",
              "    </tr>\n",
              "    <tr>\n",
              "      <th>1</th>\n",
              "      <td>226-31-3081</td>\n",
              "      <td>C</td>\n",
              "      <td>Naypyitaw</td>\n",
              "      <td>Normal</td>\n",
              "      <td>Female</td>\n",
              "      <td>Electronic accessories</td>\n",
              "      <td>15.28</td>\n",
              "      <td>5</td>\n",
              "      <td>3.8200</td>\n",
              "      <td>80.2200</td>\n",
              "      <td>3/8/2019</td>\n",
              "      <td>10:29</td>\n",
              "      <td>Cash</td>\n",
              "      <td>76.40</td>\n",
              "      <td>4.761905</td>\n",
              "      <td>3.8200</td>\n",
              "      <td>9.6</td>\n",
              "    </tr>\n",
              "    <tr>\n",
              "      <th>2</th>\n",
              "      <td>631-41-3108</td>\n",
              "      <td>A</td>\n",
              "      <td>Yangon</td>\n",
              "      <td>Normal</td>\n",
              "      <td>Male</td>\n",
              "      <td>Home and lifestyle</td>\n",
              "      <td>46.33</td>\n",
              "      <td>7</td>\n",
              "      <td>16.2155</td>\n",
              "      <td>340.5255</td>\n",
              "      <td>3/3/2019</td>\n",
              "      <td>13:23</td>\n",
              "      <td>Credit card</td>\n",
              "      <td>324.31</td>\n",
              "      <td>4.761905</td>\n",
              "      <td>16.2155</td>\n",
              "      <td>7.4</td>\n",
              "    </tr>\n",
              "    <tr>\n",
              "      <th>3</th>\n",
              "      <td>123-19-1176</td>\n",
              "      <td>A</td>\n",
              "      <td>Yangon</td>\n",
              "      <td>Member</td>\n",
              "      <td>Male</td>\n",
              "      <td>Health and beauty</td>\n",
              "      <td>58.22</td>\n",
              "      <td>8</td>\n",
              "      <td>23.2880</td>\n",
              "      <td>489.0480</td>\n",
              "      <td>1/27/2019</td>\n",
              "      <td>20:33</td>\n",
              "      <td>Ewallet</td>\n",
              "      <td>465.76</td>\n",
              "      <td>4.761905</td>\n",
              "      <td>23.2880</td>\n",
              "      <td>8.4</td>\n",
              "    </tr>\n",
              "    <tr>\n",
              "      <th>4</th>\n",
              "      <td>373-73-7910</td>\n",
              "      <td>A</td>\n",
              "      <td>Yangon</td>\n",
              "      <td>Normal</td>\n",
              "      <td>Male</td>\n",
              "      <td>Sports and travel</td>\n",
              "      <td>86.31</td>\n",
              "      <td>7</td>\n",
              "      <td>30.2085</td>\n",
              "      <td>634.3785</td>\n",
              "      <td>2/8/2019</td>\n",
              "      <td>10:37</td>\n",
              "      <td>Ewallet</td>\n",
              "      <td>604.17</td>\n",
              "      <td>4.761905</td>\n",
              "      <td>30.2085</td>\n",
              "      <td>5.3</td>\n",
              "    </tr>\n",
              "    <tr>\n",
              "      <th>...</th>\n",
              "      <td>...</td>\n",
              "      <td>...</td>\n",
              "      <td>...</td>\n",
              "      <td>...</td>\n",
              "      <td>...</td>\n",
              "      <td>...</td>\n",
              "      <td>...</td>\n",
              "      <td>...</td>\n",
              "      <td>...</td>\n",
              "      <td>...</td>\n",
              "      <td>...</td>\n",
              "      <td>...</td>\n",
              "      <td>...</td>\n",
              "      <td>...</td>\n",
              "      <td>...</td>\n",
              "      <td>...</td>\n",
              "      <td>...</td>\n",
              "    </tr>\n",
              "    <tr>\n",
              "      <th>995</th>\n",
              "      <td>233-67-5758</td>\n",
              "      <td>C</td>\n",
              "      <td>Naypyitaw</td>\n",
              "      <td>Normal</td>\n",
              "      <td>Male</td>\n",
              "      <td>Health and beauty</td>\n",
              "      <td>40.35</td>\n",
              "      <td>1</td>\n",
              "      <td>2.0175</td>\n",
              "      <td>42.3675</td>\n",
              "      <td>1/29/2019</td>\n",
              "      <td>13:46</td>\n",
              "      <td>Ewallet</td>\n",
              "      <td>40.35</td>\n",
              "      <td>4.761905</td>\n",
              "      <td>2.0175</td>\n",
              "      <td>6.2</td>\n",
              "    </tr>\n",
              "    <tr>\n",
              "      <th>996</th>\n",
              "      <td>303-96-2227</td>\n",
              "      <td>B</td>\n",
              "      <td>Mandalay</td>\n",
              "      <td>Normal</td>\n",
              "      <td>Female</td>\n",
              "      <td>Home and lifestyle</td>\n",
              "      <td>97.38</td>\n",
              "      <td>10</td>\n",
              "      <td>48.6900</td>\n",
              "      <td>1022.4900</td>\n",
              "      <td>3/2/2019</td>\n",
              "      <td>17:16</td>\n",
              "      <td>Ewallet</td>\n",
              "      <td>973.80</td>\n",
              "      <td>4.761905</td>\n",
              "      <td>48.6900</td>\n",
              "      <td>4.4</td>\n",
              "    </tr>\n",
              "    <tr>\n",
              "      <th>997</th>\n",
              "      <td>727-02-1313</td>\n",
              "      <td>A</td>\n",
              "      <td>Yangon</td>\n",
              "      <td>Member</td>\n",
              "      <td>Male</td>\n",
              "      <td>Food and beverages</td>\n",
              "      <td>31.84</td>\n",
              "      <td>1</td>\n",
              "      <td>1.5920</td>\n",
              "      <td>33.4320</td>\n",
              "      <td>2/9/2019</td>\n",
              "      <td>13:22</td>\n",
              "      <td>Cash</td>\n",
              "      <td>31.84</td>\n",
              "      <td>4.761905</td>\n",
              "      <td>1.5920</td>\n",
              "      <td>7.7</td>\n",
              "    </tr>\n",
              "    <tr>\n",
              "      <th>998</th>\n",
              "      <td>347-56-2442</td>\n",
              "      <td>A</td>\n",
              "      <td>Yangon</td>\n",
              "      <td>Normal</td>\n",
              "      <td>Male</td>\n",
              "      <td>Home and lifestyle</td>\n",
              "      <td>65.82</td>\n",
              "      <td>1</td>\n",
              "      <td>3.2910</td>\n",
              "      <td>69.1110</td>\n",
              "      <td>2/22/2019</td>\n",
              "      <td>15:33</td>\n",
              "      <td>Cash</td>\n",
              "      <td>65.82</td>\n",
              "      <td>4.761905</td>\n",
              "      <td>3.2910</td>\n",
              "      <td>4.1</td>\n",
              "    </tr>\n",
              "    <tr>\n",
              "      <th>999</th>\n",
              "      <td>849-09-3807</td>\n",
              "      <td>A</td>\n",
              "      <td>Yangon</td>\n",
              "      <td>Member</td>\n",
              "      <td>Female</td>\n",
              "      <td>Fashion accessories</td>\n",
              "      <td>88.34</td>\n",
              "      <td>7</td>\n",
              "      <td>30.9190</td>\n",
              "      <td>649.2990</td>\n",
              "      <td>2/18/2019</td>\n",
              "      <td>13:28</td>\n",
              "      <td>Cash</td>\n",
              "      <td>618.38</td>\n",
              "      <td>4.761905</td>\n",
              "      <td>30.9190</td>\n",
              "      <td>6.6</td>\n",
              "    </tr>\n",
              "  </tbody>\n",
              "</table>\n",
              "<p>1000 rows × 17 columns</p>\n",
              "</div>"
            ],
            "text/plain": [
              "      Invoice ID Branch  ... gross income Rating\n",
              "0    750-67-8428      A  ...      26.1415    9.1\n",
              "1    226-31-3081      C  ...       3.8200    9.6\n",
              "2    631-41-3108      A  ...      16.2155    7.4\n",
              "3    123-19-1176      A  ...      23.2880    8.4\n",
              "4    373-73-7910      A  ...      30.2085    5.3\n",
              "..           ...    ...  ...          ...    ...\n",
              "995  233-67-5758      C  ...       2.0175    6.2\n",
              "996  303-96-2227      B  ...      48.6900    4.4\n",
              "997  727-02-1313      A  ...       1.5920    7.7\n",
              "998  347-56-2442      A  ...       3.2910    4.1\n",
              "999  849-09-3807      A  ...      30.9190    6.6\n",
              "\n",
              "[1000 rows x 17 columns]"
            ]
          },
          "metadata": {
            "tags": []
          },
          "execution_count": 13
        }
      ]
    },
    {
      "cell_type": "code",
      "metadata": {
        "colab": {
          "base_uri": "https://localhost:8080/"
        },
        "id": "hbKbp5Xw0YE_",
        "outputId": "e4628515-eb58-4372-ecb3-8ad9725c0026"
      },
      "source": [
        "print(df.info())"
      ],
      "execution_count": 25,
      "outputs": [
        {
          "output_type": "stream",
          "text": [
            "<class 'pandas.core.frame.DataFrame'>\n",
            "RangeIndex: 1000 entries, 0 to 999\n",
            "Data columns (total 17 columns):\n",
            " #   Column                   Non-Null Count  Dtype  \n",
            "---  ------                   --------------  -----  \n",
            " 0   Invoice ID               1000 non-null   object \n",
            " 1   Branch                   1000 non-null   object \n",
            " 2   City                     1000 non-null   object \n",
            " 3   Customer type            1000 non-null   object \n",
            " 4   Gender                   1000 non-null   object \n",
            " 5   Product line             1000 non-null   object \n",
            " 6   Unit price               1000 non-null   float64\n",
            " 7   Quantity                 1000 non-null   int64  \n",
            " 8   Tax 5%                   1000 non-null   float64\n",
            " 9   Total                    1000 non-null   float64\n",
            " 10  Date                     1000 non-null   object \n",
            " 11  Time                     1000 non-null   object \n",
            " 12  Payment                  1000 non-null   object \n",
            " 13  cogs                     1000 non-null   float64\n",
            " 14  gross margin percentage  1000 non-null   float64\n",
            " 15  gross income             1000 non-null   float64\n",
            " 16  Rating                   1000 non-null   float64\n",
            "dtypes: float64(7), int64(1), object(9)\n",
            "memory usage: 132.9+ KB\n",
            "None\n"
          ],
          "name": "stdout"
        }
      ]
    },
    {
      "cell_type": "code",
      "metadata": {
        "colab": {
          "base_uri": "https://localhost:8080/"
        },
        "id": "omegMgD4v63e",
        "outputId": "29c4118e-d854-45ee-db81-a948e9ef34ed"
      },
      "source": [
        "df.isnull().values.any()"
      ],
      "execution_count": 23,
      "outputs": [
        {
          "output_type": "execute_result",
          "data": {
            "text/plain": [
              "False"
            ]
          },
          "metadata": {
            "tags": []
          },
          "execution_count": 23
        }
      ]
    },
    {
      "cell_type": "code",
      "metadata": {
        "colab": {
          "base_uri": "https://localhost:8080/"
        },
        "id": "Xmzy2AE_zBjX",
        "outputId": "3b20b367-bf0a-4578-a116-cf24e5edab4c"
      },
      "source": [
        "df.isnull().sum()"
      ],
      "execution_count": 24,
      "outputs": [
        {
          "output_type": "execute_result",
          "data": {
            "text/plain": [
              "Invoice ID                 0\n",
              "Branch                     0\n",
              "City                       0\n",
              "Customer type              0\n",
              "Gender                     0\n",
              "Product line               0\n",
              "Unit price                 0\n",
              "Quantity                   0\n",
              "Tax 5%                     0\n",
              "Total                      0\n",
              "Date                       0\n",
              "Time                       0\n",
              "Payment                    0\n",
              "cogs                       0\n",
              "gross margin percentage    0\n",
              "gross income               0\n",
              "Rating                     0\n",
              "dtype: int64"
            ]
          },
          "metadata": {
            "tags": []
          },
          "execution_count": 24
        }
      ]
    },
    {
      "cell_type": "code",
      "metadata": {
        "colab": {
          "base_uri": "https://localhost:8080/"
        },
        "id": "dKGoZrse04uA",
        "outputId": "ea0c58df-d0dc-4d9b-d071-b9022c66c902"
      },
      "source": [
        "df['Gender'].value_counts()"
      ],
      "execution_count": 34,
      "outputs": [
        {
          "output_type": "execute_result",
          "data": {
            "text/plain": [
              "Female    501\n",
              "Male      499\n",
              "Name: Gender, dtype: int64"
            ]
          },
          "metadata": {
            "tags": []
          },
          "execution_count": 34
        }
      ]
    },
    {
      "cell_type": "code",
      "metadata": {
        "colab": {
          "base_uri": "https://localhost:8080/"
        },
        "id": "NbjZQmbNz6Om",
        "outputId": "50707a0e-ba37-4bde-adc0-391a99441a36"
      },
      "source": [
        "df[df['Gender'] == 'Male'].value_counts()"
      ],
      "execution_count": 32,
      "outputs": [
        {
          "output_type": "execute_result",
          "data": {
            "text/plain": [
              "Invoice ID   Branch  City       Customer type  Gender  Product line            Unit price  Quantity  Tax 5%   Total     Date       Time   Payment      cogs    gross margin percentage  gross income  Rating\n",
              "898-04-2717  A       Yangon     Normal         Male    Fashion accessories     76.40       9         34.3800  721.9800  3/19/2019  15:49  Ewallet      687.60  4.761905                 34.3800       7.5       1\n",
              "389-25-3394  C       Naypyitaw  Normal         Male    Electronic accessories  11.81       5         2.9525   62.0025   2/17/2019  18:06  Cash         59.05   4.761905                 2.9525        9.4       1\n",
              "371-85-5789  B       Mandalay   Normal         Male    Health and beauty       87.98       3         13.1970  277.1370  3/5/2019   10:40  Ewallet      263.94  4.761905                 13.1970       5.1       1\n",
              "372-94-8041  A       Yangon     Normal         Male    Health and beauty       15.26       6         4.5780   96.1380   2/15/2019  18:03  Ewallet      91.56   4.761905                 4.5780        9.8       1\n",
              "373-09-4567  C       Naypyitaw  Normal         Male    Food and beverages      77.56       10        38.7800  814.3800  3/14/2019  20:35  Ewallet      775.60  4.761905                 38.7800       6.9       1\n",
              "                                                                                                                                                                                                               ..\n",
              "645-44-1170  A       Yangon     Member         Male    Home and lifestyle      58.07       9         26.1315  548.7615  1/19/2019  20:07  Ewallet      522.63  4.761905                 26.1315       4.3       1\n",
              "648-83-1321  A       Yangon     Member         Male    Home and lifestyle      63.56       10        31.7800  667.3800  1/16/2019  17:59  Cash         635.60  4.761905                 31.7800       4.3       1\n",
              "648-94-3045  C       Naypyitaw  Normal         Male    Health and beauty       58.95       10        29.4750  618.9750  2/7/2019   14:27  Ewallet      589.50  4.761905                 29.4750       8.1       1\n",
              "649-29-6775  B       Mandalay   Normal         Male    Fashion accessories     33.52       1         1.6760   35.1960   2/8/2019   15:31  Cash         33.52   4.761905                 1.6760        6.7       1\n",
              "101-17-6199  A       Yangon     Normal         Male    Food and beverages      45.79       7         16.0265  336.5565  3/13/2019  19:44  Credit card  320.53  4.761905                 16.0265       7.0       1\n",
              "Length: 499, dtype: int64"
            ]
          },
          "metadata": {
            "tags": []
          },
          "execution_count": 32
        }
      ]
    },
    {
      "cell_type": "code",
      "metadata": {
        "colab": {
          "base_uri": "https://localhost:8080/",
          "height": 248
        },
        "id": "NemcByGQ1obT",
        "outputId": "78bc1cc0-76c2-4f35-da62-96cdba07ab3e"
      },
      "source": [
        "plt.pie(df['Quantity'].head(5), labels=['Health', 'Electronics', 'Sports', 'Food', 'Hotel'])\n",
        "plt.show()"
      ],
      "execution_count": 69,
      "outputs": [
        {
          "output_type": "display_data",
          "data": {
            "image/png": "[encoded data removed]",
            "text/plain": [
              "<Figure size 432x288 with 1 Axes>"
            ]
          },
          "metadata": {
            "tags": []
          }
        }
      ]
    },
    {
      "cell_type": "code",
      "metadata": {
        "id": "X9b0B_lT2fNB"
      },
      "source": [
        ""
      ],
      "execution_count": null,
      "outputs": []
    }
  ]
}